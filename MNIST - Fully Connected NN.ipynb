{
 "cells": [
  {
   "cell_type": "code",
   "execution_count": 219,
   "metadata": {
    "collapsed": true
   },
   "outputs": [],
   "source": [
    "import numpy as np\n",
    "import matplotlib.pyplot as plt\n",
    "import tensorflow as tf\n",
    "from tensorflow.examples.tutorials.mnist import input_data"
   ]
  },
  {
   "cell_type": "code",
   "execution_count": 220,
   "metadata": {},
   "outputs": [
    {
     "name": "stdout",
     "output_type": "stream",
     "text": [
      "Extracting MNIST_data/train-images-idx3-ubyte.gz\n",
      "Extracting MNIST_data/train-labels-idx1-ubyte.gz\n",
      "Extracting MNIST_data/t10k-images-idx3-ubyte.gz\n",
      "Extracting MNIST_data/t10k-labels-idx1-ubyte.gz\n"
     ]
    }
   ],
   "source": [
    "# Importing the data\n",
    "\n",
    "mnist = input_data.read_data_sets(\"MNIST_data/\", one_hot=True)"
   ]
  },
  {
   "cell_type": "code",
   "execution_count": 221,
   "metadata": {
    "collapsed": true
   },
   "outputs": [],
   "source": [
    "# Setting the network parameters\n",
    "\n",
    "learning_rate=0.1\n",
    "inputs = 784\n",
    "activation_function = tf.nn.relu\n",
    "num_hidden1 = 1200\n",
    "num_hidden2= 1200\n",
    "num_hidden3= 10\n",
    "batch_size=100\n",
    "steps=2000"
   ]
  },
  {
   "cell_type": "code",
   "execution_count": 222,
   "metadata": {
    "collapsed": true
   },
   "outputs": [],
   "source": [
    "#Functions to initialise the weights and biases\n",
    "def weight_initialisation(shape):\n",
    "    initial = tf.random_normal(shape, stddev=1e-4)\n",
    "    return tf.Variable(initial)\n",
    "\n",
    "def bias_initialisation(shape):\n",
    "    initial = tf.random_normal(shape, stddev=1e-4)\n",
    "    return tf.Variable(initial)"
   ]
  },
  {
   "cell_type": "code",
   "execution_count": 223,
   "metadata": {
    "collapsed": true
   },
   "outputs": [],
   "source": [
    "#Function to create the network\n",
    "def model(input_data):\n",
    "    \n",
    "    # Layer 1 has 1200 nodes\n",
    "    w1 = weight_variable([784, 1200])\n",
    "    b1 = bias_variable([1200])  \n",
    "    layer1 = activation_function(tf.add(tf.matmul(input_data, w1),b1))\n",
    "    \n",
    "    # Layer 2 has 1200 nodes\n",
    "    w2 = weight_variable([1200, 1200])\n",
    "    b2 = bias_variable([1200])\n",
    "    layer2 = activation_function(tf.add(tf.matmul(layer1, w2),b2))\n",
    "    \n",
    "    # Output layer has 10 nodes\n",
    "    w3 = weight_variable([1200, 10])\n",
    "    b3 = bias_variable([10])\n",
    "    layer3 = tf.nn.softmax(tf.add(tf.matmul(layer2, w3),b3))\n",
    "    \n",
    "    return layer3    "
   ]
  },
  {
   "cell_type": "code",
   "execution_count": 224,
   "metadata": {
    "collapsed": true
   },
   "outputs": [],
   "source": [
    "# Labels\n",
    "y = tf.placeholder(tf.float32, [None, 10])\n",
    "\n",
    "# Features\n",
    "x = tf.placeholder(tf.float32, [None, 784])"
   ]
  },
  {
   "cell_type": "code",
   "execution_count": 225,
   "metadata": {
    "collapsed": true
   },
   "outputs": [],
   "source": [
    "# Obtain predicted values from the network\n",
    "y_pred = model(x)\n",
    "\n",
    "# Calculate loss\n",
    "cross_entropy = tf.reduce_mean(-tf.reduce_sum(y * tf.log(y_pred), reduction_indices=[1]))\n",
    "\n",
    "# Set the Gradient Descent optimiser\n",
    "optimiser = tf.train.GradientDescentOptimizer(learning_rate=0.1).minimize(cross_entropy)\n",
    "\n",
    "# Calculate the accuracy\n",
    "correct_prediction = tf.equal(tf.argmax(y_pred, 1), tf.argmax(y, 1))\n",
    "accuracy = tf.reduce_mean(tf.cast(correct_prediction, tf.float32))\n",
    "\n",
    "# Initialise all global variables\n",
    "init = tf.global_variables_initializer()"
   ]
  },
  {
   "cell_type": "code",
   "execution_count": 229,
   "metadata": {},
   "outputs": [
    {
     "name": "stdout",
     "output_type": "stream",
     "text": [
      "Iteration 0, training accuracy 0.06\n",
      "Iteration 100, training accuracy 0.5\n",
      "Iteration 200, training accuracy 0.81\n",
      "Iteration 300, training accuracy 0.83\n",
      "Iteration 400, training accuracy 0.87\n",
      "Iteration 500, training accuracy 0.93\n",
      "Iteration 600, training accuracy 0.89\n",
      "Iteration 700, training accuracy 0.91\n",
      "Iteration 800, training accuracy 0.88\n",
      "Iteration 900, training accuracy 0.92\n",
      "Iteration 1000, training accuracy 0.89\n",
      "Iteration 1100, training accuracy 0.95\n",
      "Iteration 1200, training accuracy 0.99\n",
      "Iteration 1300, training accuracy 0.96\n",
      "Iteration 1400, training accuracy 0.93\n",
      "Iteration 1500, training accuracy 0.95\n",
      "Iteration 1600, training accuracy 0.97\n",
      "Iteration 1700, training accuracy 0.9\n",
      "Iteration 1800, training accuracy 0.97\n",
      "Iteration 1900, training accuracy 0.93\n",
      "Iteration 2000, training accuracy 0.94\n",
      "Test accuracy: 95.61.\n"
     ]
    }
   ],
   "source": [
    "with tf.Session() as sess:\n",
    "    sess.run(init)\n",
    "    for i in range(0, steps+1):\n",
    "        \n",
    "        # Obtaining batch for training\n",
    "        x_batch, y_batch=  mnist.train.next_batch(batch_size)\n",
    "        if i % 100 == 0:\n",
    "            acc = sess.run(accuracy, feed_dict={x: x_batch, y: y_batch})\n",
    "            print(\"Iteration %d, training accuracy %g\" % (i, acc))\n",
    "            \n",
    "        # Training the Neural Network on the training data\n",
    "        sess.run(optimiser, feed_dict={x: x_batch, y: y_batch})\n",
    "        \n",
    "    # Checking the accuracy of the model on the test data\n",
    "    test_accuracy = sess.run(accuracy, feed_dict={x: mnist.test.images, y: mnist.test.labels, keep_prob_input: 1.0, keep_prob: 1.0})\n",
    "    print(\"Test accuracy: %g.\" % (test_accuracy*100))"
   ]
  },
  {
   "cell_type": "code",
   "execution_count": null,
   "metadata": {
    "collapsed": true
   },
   "outputs": [],
   "source": []
  }
 ],
 "metadata": {
  "kernelspec": {
   "display_name": "Python 3",
   "language": "python",
   "name": "python3"
  },
  "language_info": {
   "codemirror_mode": {
    "name": "ipython",
    "version": 3
   },
   "file_extension": ".py",
   "mimetype": "text/x-python",
   "name": "python",
   "nbconvert_exporter": "python",
   "pygments_lexer": "ipython3",
   "version": "3.6.2"
  }
 },
 "nbformat": 4,
 "nbformat_minor": 2
}
