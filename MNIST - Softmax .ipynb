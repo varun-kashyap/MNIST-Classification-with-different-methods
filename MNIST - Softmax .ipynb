{
 "cells": [
  {
   "cell_type": "code",
   "execution_count": 15,
   "metadata": {
    "collapsed": true
   },
   "outputs": [],
   "source": [
    "from keras.datasets import mnist\n",
    "import numpy as np\n",
    "import matplotlib.pyplot as plt"
   ]
  },
  {
   "cell_type": "code",
   "execution_count": 16,
   "metadata": {},
   "outputs": [],
   "source": [
    "# Load the data\n",
    "(X_train, y_train), (X_test, y_test) = mnist.load_data() #If you don't have the dataset, it will be downloaded firt time\n",
    "\n",
    "# Data preprocessing\n",
    "X_train = X_train.reshape(-1,28*28)\n",
    "X_test = X_test.reshape(-1,28*28)\n",
    "\n",
    "X_train = np.pad(X_train,[(0,0),(0,1)],mode='constant',constant_values=1)\n",
    "X_test = np.pad(X_test,[(0,0),(0,1)],mode='constant',constant_values=1)\n",
    "\n",
    "# One-hot encoding\n",
    "Y = np.zeros((len(y_train),output_size))\n",
    "Y[np.arange(len(y_train)),y_train] = 1 "
   ]
  },
  {
   "cell_type": "code",
   "execution_count": 17,
   "metadata": {
    "collapsed": true
   },
   "outputs": [],
   "source": [
    "input_size = X_train[0].size\n",
    "output_size = 10\n",
    "batch_size = 1000\n",
    "\n",
    "learning_rate = 1e-3\n",
    "\n",
    "W = np.random.normal(0,0.01,(input_size,output_size))"
   ]
  },
  {
   "cell_type": "code",
   "execution_count": 18,
   "metadata": {},
   "outputs": [
    {
     "name": "stdout",
     "output_type": "stream",
     "text": [
      "Iteration:  0\n",
      "Iteration:  500\n",
      "Iteration:  1000\n"
     ]
    }
   ],
   "source": [
    "# Training the model\n",
    "for i in range(1500):\n",
    "    if i%500 == 0:\n",
    "        print ('Iteration: ',i)\n",
    "\n",
    "    rand_idx = np.random.choice(np.arange(y_train.size),batch_size,replace=False)\n",
    "\n",
    "    X_batch = X_train[rand_idx,:]\n",
    "    Y_batch = Y[rand_idx,:]\n",
    "\n",
    "    logits = np.dot(X_batch,W)\n",
    "    pred_prob = np.exp(logits - np.max(logits,1).reshape(-1,1))\n",
    "    pred_prob = pred_prob/(1e-8 + np.sum(pred_prob,1).reshape(-1,1))\n",
    "\n",
    "    dW = np.dot(X_batch.T,pred_prob-Y_batch)/batch_size\n",
    "    W = W -learning_rate*dW"
   ]
  },
  {
   "cell_type": "code",
   "execution_count": 19,
   "metadata": {},
   "outputs": [
    {
     "name": "stdout",
     "output_type": "stream",
     "text": [
      "Classification Accuracy for learning rate 0.001 is 90.54\n"
     ]
    }
   ],
   "source": [
    "# Evaluating the model on the test data\n",
    "test_scores = np.dot(X_test,W)\n",
    "test_labels = np.argmax(test_scores,1)\n",
    "accuracy = np.sum((y_test-test_labels) == 0)*100.0/y_test.size\n",
    "\n",
    "# Print the accuracy on the test data\n",
    "print ('Classification Accuracy for learning rate %s is %s'%(learning_rate,accuracy))"
   ]
  }
 ],
 "metadata": {
  "kernelspec": {
   "display_name": "Python 3",
   "language": "python",
   "name": "python3"
  },
  "language_info": {
   "codemirror_mode": {
    "name": "ipython",
    "version": 3
   },
   "file_extension": ".py",
   "mimetype": "text/x-python",
   "name": "python",
   "nbconvert_exporter": "python",
   "pygments_lexer": "ipython3",
   "version": "3.6.2"
  }
 },
 "nbformat": 4,
 "nbformat_minor": 2
}
